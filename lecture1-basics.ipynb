{
 "cells": [
  {
   "cell_type": "markdown",
   "metadata": {},
   "source": [
    "# 1. Pytorch basics"
   ]
  },
  {
   "cell_type": "markdown",
   "metadata": {},
   "source": [
    "- Used as part of INFO8010 Deep Learning (Gilles Louppe, 2018-2019).\n",
    "- Originally adapted from [Pytorch tutorial for Deep Learning researchers](https://github.com/yunjey/pytorch-tutorial) (Yunvey Choi, 2018).\n",
    "\n",
    "---"
   ]
  },
  {
   "cell_type": "code",
   "execution_count": 1,
   "metadata": {},
   "outputs": [],
   "source": [
    "# Imports\n",
    "import numpy as np\n",
    "import matplotlib.pyplot as plt\n",
    "%matplotlib inline\n",
    "\n",
    "import torch \n",
    "import torchvision\n",
    "import torch.nn as nn ##functions for NN\n",
    "import torch.utils.data as data\n",
    "import torchvision.transforms as transforms\n",
    "import torchvision.datasets as dsets"
   ]
  },
  {
   "cell_type": "markdown",
   "metadata": {},
   "source": [
    "# Basic autograd example 1"
   ]
  },
  {
   "cell_type": "code",
   "execution_count": 15,
   "metadata": {},
   "outputs": [],
   "source": [
    "# Create tensors.\n",
    "x = torch.tensor(5.)\n",
    "w = torch.tensor(2., requires_grad=True)\n",
    "b = torch.tensor(3., requires_grad=True)"
   ]
  },
  {
   "cell_type": "code",
   "execution_count": 16,
   "metadata": {},
   "outputs": [
    {
     "name": "stdout",
     "output_type": "stream",
     "text": [
      "None\n",
      "tensor(5.)\n",
      "tensor(1.)\n"
     ]
    }
   ],
   "source": [
    "# Build a computational graph.\n",
    "y = w * x + b    # y = 2 * x + 3\n",
    "\n",
    "# Compute gradients.\n",
    "y.backward()\n",
    "\n",
    "# Print out the gradients.\n",
    "print(x.grad)    # x.grad = 2 \n",
    "print(w.grad)    # w.grad = 1 \n",
    "print(b.grad)    # b.grad = 1 "
   ]
  },
  {
   "cell_type": "markdown",
   "metadata": {},
   "source": [
    "<div class=\"alert alert-success\">\n",
    "<b>EXERCISE</b>:\n",
    "\n",
    "<ul>\n",
    "    <li>Define a polynomial model <code>y = w1*x + w2*x^2 + b</code>.\n",
    "    <li>Compute the value of <code>y</code> at <code>x=2</code>, <code>w1=1.5</code>, <code>w2=-1.0</code> and <code>b=3</code>.\n",
    "    <li>Evaluate the derivate of <code>y</code> with respect to <code>w2</code> at these values.\n",
    "</ul>\n",
    "\n",
    "</div>"
   ]
  },
  {
   "cell_type": "code",
   "execution_count": 27,
   "metadata": {},
   "outputs": [
    {
     "name": "stdout",
     "output_type": "stream",
     "text": [
      "tensor(4.) tensor(2.)\n"
     ]
    }
   ],
   "source": [
    "x = torch.tensor(2.)\n",
    "w1 = torch.tensor(1.5, requires_grad = True)\n",
    "w2 = torch.tensor(-1.0, requires_grad = True)\n",
    "b = torch.tensor(3.)\n",
    "y = w1*x+w2*x**2+b\n",
    "y.backward()\n",
    "print(w2.grad, w1.grad)\n",
    "\n",
    "##alternative"
   ]
  },
  {
   "cell_type": "markdown",
   "metadata": {},
   "source": [
    "# Basic autograd example 2"
   ]
  },
  {
   "cell_type": "code",
   "execution_count": 37,
   "metadata": {},
   "outputs": [],
   "source": [
    "# Create tensors.\n",
    "x = torch.randn(5, 3)\n",
    "y = torch.randn(5, 2)"
   ]
  },
  {
   "cell_type": "code",
   "execution_count": 38,
   "metadata": {},
   "outputs": [
    {
     "data": {
      "text/plain": [
       "tensor([[ 1.4848,  0.6692],\n",
       "        [ 1.5627,  1.5576],\n",
       "        [-1.1278,  1.0349],\n",
       "        [ 1.2540, -0.8508],\n",
       "        [ 2.2638,  0.3483]])"
      ]
     },
     "execution_count": 38,
     "metadata": {},
     "output_type": "execute_result"
    }
   ],
   "source": [
    "y"
   ]
  },
  {
   "cell_type": "code",
   "execution_count": 39,
   "metadata": {},
   "outputs": [
    {
     "name": "stdout",
     "output_type": "stream",
     "text": [
      "w:  Parameter containing:\n",
      "tensor([[-0.4143,  0.2898, -0.0647],\n",
      "        [-0.1245, -0.4170, -0.2959]], requires_grad=True)\n",
      "b:  Parameter containing:\n",
      "tensor([-0.0780,  0.5190], requires_grad=True)\n"
     ]
    }
   ],
   "source": [
    "# Build a linear layer.\n",
    "linear = nn.Linear(3, 2)\n",
    "print('w: ', linear.weight)\n",
    "print('b: ', linear.bias)"
   ]
  },
  {
   "cell_type": "code",
   "execution_count": 40,
   "metadata": {},
   "outputs": [
    {
     "name": "stdout",
     "output_type": "stream",
     "text": [
      "Parameter containing:\n",
      "tensor([[-0.4143,  0.2898, -0.0647],\n",
      "        [-0.1245, -0.4170, -0.2959]], requires_grad=True) 6\n",
      "Parameter containing:\n",
      "tensor([-0.0780,  0.5190], requires_grad=True) 2\n"
     ]
    }
   ],
   "source": [
    "for p in linear.parameters():\n",
    "    print(p, p.numel())"
   ]
  },
  {
   "cell_type": "code",
   "execution_count": 41,
   "metadata": {},
   "outputs": [
    {
     "name": "stdout",
     "output_type": "stream",
     "text": [
      "tensor([[ 0.2779,  0.2915],\n",
      "        [-0.4344,  1.1561],\n",
      "        [ 0.1359, -0.0609],\n",
      "        [-0.1717,  0.4174],\n",
      "        [-0.4274,  0.4798]], grad_fn=<AddmmBackward>)\n"
     ]
    }
   ],
   "source": [
    "# Forward propagation.\n",
    "pred = linear(x)\n",
    "print(pred)"
   ]
  },
  {
   "cell_type": "code",
   "execution_count": 42,
   "metadata": {},
   "outputs": [
    {
     "name": "stdout",
     "output_type": "stream",
     "text": [
      "loss:  tensor(1.9448, grad_fn=<MseLossBackward>)\n"
     ]
    }
   ],
   "source": [
    "# Build Loss and Optimizer.\n",
    "criterion = nn.MSELoss()\n",
    "optimizer = torch.optim.SGD(linear.parameters(), lr=0.01)#learning rate\n",
    "\n",
    "# Compute loss.\n",
    "loss = criterion(pred, y)\n",
    "print('loss: ', loss)"
   ]
  },
  {
   "cell_type": "code",
   "execution_count": 43,
   "metadata": {},
   "outputs": [
    {
     "name": "stdout",
     "output_type": "stream",
     "text": [
      "dL/dw:  tensor([[-0.3494,  0.6689,  0.2049],\n",
      "        [ 0.1140, -0.1272, -0.0928]])\n",
      "dL/db:  tensor([-1.2115, -0.0951])\n"
     ]
    }
   ],
   "source": [
    "# Backpropagation.\n",
    "loss.backward()\n",
    "\n",
    "# Print out the gradients.\n",
    "print ('dL/dw: ', linear.weight.grad) \n",
    "print ('dL/db: ', linear.bias.grad)"
   ]
  },
  {
   "cell_type": "code",
   "execution_count": 44,
   "metadata": {},
   "outputs": [
    {
     "name": "stdout",
     "output_type": "stream",
     "text": [
      "loss after 1 step optimization:  1.923598289489746\n"
     ]
    }
   ],
   "source": [
    "# 1-step Optimization (gradient descent).\n",
    "optimizer.step()\n",
    "\n",
    "# You can also do optimization at the low level as shown below.\n",
    "# linear.weight.data.sub_(0.01 * linear.weight.grad.data)\n",
    "# linear.bias.data.sub_(0.01 * linear.bias.grad.data)\n",
    "\n",
    "# Print out the loss after optimization.\n",
    "pred = linear(x)\n",
    "loss = criterion(pred, y)\n",
    "print('loss after 1 step optimization: ', loss.item())"
   ]
  },
  {
   "cell_type": "markdown",
   "metadata": {},
   "source": [
    "<div class=\"alert alert-success\">\n",
    "<b>EXERCISE</b>:\n",
    "\n",
    "Write the code above within a for loop that trains the linear models for 100 steps. Check that your loss is decreasing.\n",
    "\n",
    "</div>"
   ]
  },
  {
   "cell_type": "code",
   "execution_count": 53,
   "metadata": {},
   "outputs": [
    {
     "name": "stdout",
     "output_type": "stream",
     "text": [
      "tensor(1.5207)\n",
      "tensor(1.5039)\n",
      "tensor(1.4873)\n",
      "tensor(1.4711)\n",
      "tensor(1.4551)\n",
      "tensor(1.4394)\n",
      "tensor(1.4239)\n",
      "tensor(1.4087)\n",
      "tensor(1.3938)\n",
      "tensor(1.3647)\n",
      "tensor(1.3505)\n",
      "tensor(1.3365)\n",
      "tensor(1.3228)\n",
      "tensor(1.3093)\n",
      "tensor(1.2960)\n",
      "tensor(1.2830)\n",
      "tensor(1.2701)\n",
      "tensor(1.2575)\n",
      "tensor(1.2329)\n",
      "tensor(1.2208)\n",
      "tensor(1.2090)\n",
      "tensor(1.1974)\n",
      "tensor(1.1859)\n",
      "tensor(1.1746)\n",
      "tensor(1.1636)\n",
      "tensor(1.1526)\n",
      "tensor(1.1419)\n",
      "tensor(1.1209)\n",
      "tensor(1.1107)\n",
      "tensor(1.1006)\n",
      "tensor(1.0907)\n",
      "tensor(1.0810)\n",
      "tensor(1.0714)\n",
      "tensor(1.0619)\n",
      "tensor(1.0526)\n",
      "tensor(1.0434)\n",
      "tensor(1.0255)\n",
      "tensor(1.0168)\n",
      "tensor(1.0081)\n",
      "tensor(0.9997)\n",
      "tensor(0.9913)\n",
      "tensor(0.9831)\n",
      "tensor(0.9750)\n",
      "tensor(0.9670)\n",
      "tensor(0.9591)\n",
      "tensor(0.9437)\n",
      "tensor(0.9362)\n",
      "tensor(0.9288)\n",
      "tensor(0.9215)\n",
      "tensor(0.9143)\n",
      "tensor(0.9072)\n",
      "tensor(0.9003)\n",
      "tensor(0.8934)\n",
      "tensor(0.8866)\n",
      "tensor(0.8733)\n",
      "tensor(0.8668)\n",
      "tensor(0.8604)\n",
      "tensor(0.8541)\n",
      "tensor(0.8479)\n",
      "tensor(0.8418)\n",
      "tensor(0.8357)\n",
      "tensor(0.8298)\n",
      "tensor(0.8239)\n",
      "tensor(0.8124)\n",
      "tensor(0.8067)\n",
      "tensor(0.8012)\n",
      "tensor(0.7957)\n",
      "tensor(0.7903)\n",
      "tensor(0.7850)\n",
      "tensor(0.7797)\n",
      "tensor(0.7745)\n",
      "tensor(0.7694)\n",
      "tensor(0.7594)\n",
      "tensor(0.7544)\n",
      "tensor(0.7496)\n",
      "tensor(0.7448)\n",
      "tensor(0.7401)\n",
      "tensor(0.7354)\n",
      "tensor(0.7308)\n",
      "tensor(0.7263)\n",
      "tensor(0.7218)\n",
      "tensor(0.7130)\n",
      "tensor(0.7087)\n",
      "tensor(0.7044)\n",
      "tensor(0.7002)\n",
      "tensor(0.6960)\n",
      "tensor(0.6919)\n",
      "tensor(0.6879)\n",
      "tensor(0.6839)\n",
      "tensor(0.6800)\n"
     ]
    }
   ],
   "source": [
    "for i in range(100):\n",
    "    pred = linear(x)\n",
    "    loss = criterion(pred,y)\n",
    "    optimizer.zero_grad()\n",
    "    loss.backward()\n",
    "    optimizer.step()\n",
    "    if i%10 --0:\n",
    "        print(loss.detach().data)"
   ]
  },
  {
   "cell_type": "markdown",
   "metadata": {},
   "source": [
    "# Load data from numpy"
   ]
  },
  {
   "cell_type": "code",
   "execution_count": 54,
   "metadata": {},
   "outputs": [],
   "source": [
    "a = np.array([[1,2], [3,4]])\n",
    "b = torch.from_numpy(a)      # convert numpy array to torch tensor\n",
    "c = b.numpy()                # convert torch tensor to numpy array"
   ]
  },
  {
   "cell_type": "markdown",
   "metadata": {},
   "source": [
    "# Implementing the input pipeline"
   ]
  },
  {
   "cell_type": "code",
   "execution_count": 55,
   "metadata": {},
   "outputs": [
    {
     "name": "stdout",
     "output_type": "stream",
     "text": [
      "Downloading https://www.cs.toronto.edu/~kriz/cifar-10-python.tar.gz to ./data/cifar-10-python.tar.gz\n"
     ]
    },
    {
     "name": "stderr",
     "output_type": "stream",
     "text": [
      "170500096it [17:40, 225117.38it/s]                                                                                     "
     ]
    }
   ],
   "source": [
    "# Download and construct dataset.\n",
    "train_dataset = dsets.CIFAR10(root='./data/',\n",
    "                              train=True, \n",
    "                              transform=transforms.ToTensor(),\n",
    "                              download=True)"
   ]
  },
  {
   "cell_type": "code",
   "execution_count": null,
   "metadata": {},
   "outputs": [],
   "source": [
    "# Select one data pair (read data from disk).\n",
    "image, label = train_dataset[7]\n",
    "print(image.size())\n",
    "print(label)#right answer here"
   ]
  },
  {
   "cell_type": "code",
   "execution_count": null,
   "metadata": {},
   "outputs": [],
   "source": [
    "from scipy.misc import toimage\n",
    "toimage(image)"
   ]
  },
  {
   "cell_type": "code",
   "execution_count": null,
   "metadata": {},
   "outputs": [],
   "source": [
    "# Data Loader (this provides queue and thread in a very simple way).##more efficient  way to dwnld data\n",
    "train_loader = torch.utils.data.DataLoader(dataset=train_dataset,\n",
    "                                           batch_size=100, ##samples for each it\n",
    "                                           shuffle=True,\n",
    "                                           num_workers=2)\n",
    "\n",
    "# When iteration starts, queue and thread start to load dataset from files.\n",
    "data_iter = iter(train_loader) \n",
    "\n",
    "# Mini-batch images and labels.\n",
    "images, labels = data_iter.next()\n",
    "\n",
    "# Actual usage of data loader is as below.\n",
    "for images, labels in train_loader:\n",
    "    # Your training code will be written here\n",
    "    pass"
   ]
  },
  {
   "cell_type": "markdown",
   "metadata": {},
   "source": [
    "# Input pipeline for custom dataset"
   ]
  },
  {
   "cell_type": "code",
   "execution_count": null,
   "metadata": {},
   "outputs": [],
   "source": [
    "# You should build custom dataset as below.\n",
    "class CustomDataset(data.Dataset):\n",
    "    def __init__(self):\n",
    "        # TODO\n",
    "        # 1. Initialize file path or list of file names. \n",
    "        pass\n",
    "    def __getitem__(self, index):\n",
    "        # TODO\n",
    "        # 1. Read one data from file (e.g. using numpy.fromfile, PIL.Image.open).\n",
    "        # 2. Preprocess the data (e.g. torchvision.Transform).\n",
    "        # 3. Return a data pair (e.g. image and label).\n",
    "        pass\n",
    "    def __len__(self):\n",
    "        # You should change 0 to the total size of your dataset.\n",
    "        return 0 \n",
    "\n",
    "# Then, you can just use prebuilt torch's data loader. \n",
    "custom_dataset = CustomDataset()\n",
    "train_loader = torch.utils.data.DataLoader(dataset=custom_dataset,\n",
    "                                           batch_size=100, \n",
    "                                           shuffle=True,\n",
    "                                           num_workers=2)"
   ]
  },
  {
   "cell_type": "markdown",
   "metadata": {},
   "source": [
    "# Save and load model"
   ]
  },
  {
   "cell_type": "code",
   "execution_count": null,
   "metadata": {},
   "outputs": [],
   "source": [
    "# Save and load the entire model.\n",
    "torch.save(linear, 'model.pkl')\n",
    "model = torch.load('model.pkl')\n",
    "\n",
    "# Save and load only the model parameters(recommended).\n",
    "torch.save(linear.state_dict(), 'params.pkl')\n",
    "linear.load_state_dict(torch.load('params.pkl'))"
   ]
  },
  {
   "cell_type": "code",
   "execution_count": null,
   "metadata": {},
   "outputs": [],
   "source": []
  }
 ],
 "metadata": {
  "hide_input": false,
  "kernelspec": {
   "display_name": "Python 3",
   "language": "python",
   "name": "python3"
  },
  "language_info": {
   "codemirror_mode": {
    "name": "ipython",
    "version": 3
   },
   "file_extension": ".py",
   "mimetype": "text/x-python",
   "name": "python",
   "nbconvert_exporter": "python",
   "pygments_lexer": "ipython3",
   "version": "3.7.3"
  }
 },
 "nbformat": 4,
 "nbformat_minor": 2
}

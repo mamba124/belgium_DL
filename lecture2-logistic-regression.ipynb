{
 "cells": [
  {
   "cell_type": "markdown",
   "metadata": {},
   "source": [
    "# 2. Logistic regression"
   ]
  },
  {
   "cell_type": "markdown",
   "metadata": {},
   "source": [
    "- Used as part of INFO8010 Deep Learning (Gilles Louppe, 2018-2019).\n",
    "- Originally adapted from [Pytorch tutorial for Deep Learning researchers](https://github.com/yunjey/pytorch-tutorial) (Yunvey Choi, 2018).\n",
    "\n",
    "---"
   ]
  },
  {
   "cell_type": "code",
   "execution_count": 1,
   "metadata": {},
   "outputs": [],
   "source": [
    "# Imports\n",
    "import numpy as np\n",
    "import matplotlib.pyplot as plt\n",
    "%matplotlib inline\n",
    "\n",
    "import torch \n",
    "import torch.nn as nn\n",
    "import torchvision.transforms as transforms\n",
    "import torchvision.datasets as dsets\n",
    "from torch.autograd import Variable"
   ]
  },
  {
   "cell_type": "markdown",
   "metadata": {},
   "source": [
    "# Hyper-parameters"
   ]
  },
  {
   "cell_type": "code",
   "execution_count": 2,
   "metadata": {},
   "outputs": [],
   "source": [
    "input_size = 784\n",
    "num_classes = 10\n",
    "num_epochs = 5\n",
    " #numb for each step gradient\n",
    "learning_rate = 0.001 #gamma"
   ]
  },
  {
   "cell_type": "markdown",
   "metadata": {},
   "source": [
    "# Data"
   ]
  },
  {
   "cell_type": "code",
   "execution_count": 31,
   "metadata": {},
   "outputs": [],
   "source": [
    "# MNIST Dataset (Images and Labels)\n",
    "batch_size = 100\n",
    "train_dataset = dsets.MNIST(root='./data', \n",
    "                            train=True, \n",
    "                            transform=transforms.ToTensor(),\n",
    "                            download=True)\n",
    "\n",
    "test_dataset = dsets.MNIST(root='./data', \n",
    "                           train=False, \n",
    "                           transform=transforms.ToTensor())\n",
    "\n",
    "# Dataset Loader (Input Pipline)\n",
    "train_loader = torch.utils.data.DataLoader(dataset=train_dataset, \n",
    "                                           batch_size=batch_size, \n",
    "                                           shuffle=True)\n",
    "\n",
    "test_loader = torch.utils.data.DataLoader(dataset=test_dataset, \n",
    "                                          batch_size=batch_size, \n",
    "                                          shuffle=False)\n"
   ]
  },
  {
   "cell_type": "code",
   "execution_count": 9,
   "metadata": {},
   "outputs": [],
   "source": [
    "data_iter = iter(train_loader)\n",
    "X, y = data_iter.next()"
   ]
  },
  {
   "cell_type": "code",
   "execution_count": 10,
   "metadata": {},
   "outputs": [
    {
     "data": {
      "text/plain": [
       "<matplotlib.image.AxesImage at 0x1d0028ce7b8>"
      ]
     },
     "execution_count": 10,
     "metadata": {},
     "output_type": "execute_result"
    },
    {
     "data": {
      "image/png": "[encoded data removed]",
      "text/plain": [
       "<Figure size 432x288 with 1 Axes>"
      ]
     },
     "metadata": {
      "needs_background": "light"
     },
     "output_type": "display_data"
    }
   ],
   "source": [
    "plt.imshow(X[0, 0])"
   ]
  },
  {
   "cell_type": "markdown",
   "metadata": {},
   "source": [
    "# Model"
   ]
  },
  {
   "cell_type": "code",
   "execution_count": 14,
   "metadata": {},
   "outputs": [],
   "source": [
    "# Model\n",
    "class LogisticRegression(nn.Module):\n",
    "    def __init__(self, input_size, num_classes):\n",
    "        super(LogisticRegression, self).__init__() ###наследование. прописали то, что уже было и добавляем свое\n",
    "        self.linear = nn.Linear(input_size, num_classes) #linear layer. the par of father mod it contains all the info\n",
    "        self.softmax = nn.Softmax() ##last layer defines probability of diffeerent classes. so, it normalizez the numbers\n",
    "    \n",
    "    def forward(self, x): #explain operations \n",
    "        out = self.linear(x) #apply lin layer\n",
    "        out = self.softmax(out)\n",
    "        return out\n",
    "\n",
    "model = LogisticRegression(input_size, num_classes)"
   ]
  },
  {
   "cell_type": "code",
   "execution_count": 15,
   "metadata": {},
   "outputs": [
    {
     "data": {
      "text/plain": [
       "torch.Size([100, 784])"
      ]
     },
     "execution_count": 15,
     "metadata": {},
     "output_type": "execute_result"
    }
   ],
   "source": [
    "X.view(-1, 28*28).shape"
   ]
  },
  {
   "cell_type": "code",
   "execution_count": 16,
   "metadata": {},
   "outputs": [
    {
     "name": "stderr",
     "output_type": "stream",
     "text": [
      "C:\\ProgramData\\Anaconda3\\lib\\site-packages\\ipykernel_launcher.py:10: UserWarning: Implicit dimension choice for softmax has been deprecated. Change the call to include dim=X as an argument.\n",
      "  # Remove the CWD from sys.path while we load stuff.\n"
     ]
    },
    {
     "data": {
      "text/plain": [
       "tensor([0.0955, 0.1057, 0.1139, 0.1178, 0.0907, 0.0738, 0.1194, 0.0963, 0.0943,\n",
       "        0.0927], grad_fn=<SelectBackward>)"
      ]
     },
     "execution_count": 16,
     "metadata": {},
     "output_type": "execute_result"
    }
   ],
   "source": [
    "model.forward(X.view(-1, 28*28))[0]"
   ]
  },
  {
   "cell_type": "markdown",
   "metadata": {},
   "source": [
    "<div class=\"alert alert-success\">\n",
    "<b>EXERCISE</b>:\n",
    "\n",
    "Print <code>y</code> and explain the data structure you see (type and content).\n",
    "\n",
    "Is it consistent with what a neural network expects when dealing with a classification problem?\n",
    "If not, why can we still train the model? \n",
    "</div>"
   ]
  },
  {
   "cell_type": "code",
   "execution_count": 13,
   "metadata": {},
   "outputs": [
    {
     "data": {
      "text/plain": [
       "tensor([5, 6, 4, 4, 4, 8, 3, 0, 0, 0, 9, 0, 6, 6, 9, 7, 7, 2, 2, 5, 4, 2, 8, 4,\n",
       "        4, 8, 1, 9, 3, 5, 7, 7, 4, 4, 3, 9, 6, 7, 2, 9, 3, 5, 7, 6, 1, 4, 0, 1,\n",
       "        8, 0, 3, 3, 1, 0, 4, 2, 3, 7, 6, 6, 7, 0, 7, 3, 9, 7, 5, 7, 7, 7, 4, 9,\n",
       "        9, 1, 4, 5, 1, 6, 0, 9, 8, 7, 6, 7, 9, 4, 2, 7, 8, 5, 0, 7, 8, 0, 0, 2,\n",
       "        6, 8, 3, 9])"
      ]
     },
     "execution_count": 13,
     "metadata": {},
     "output_type": "execute_result"
    }
   ],
   "source": [
    "# Your code\n",
    "y"
   ]
  },
  {
   "cell_type": "markdown",
   "metadata": {},
   "source": [
    "# Loss and optimizer"
   ]
  },
  {
   "cell_type": "code",
   "execution_count": 17,
   "metadata": {},
   "outputs": [
    {
     "name": "stderr",
     "output_type": "stream",
     "text": [
      "C:\\ProgramData\\Anaconda3\\lib\\site-packages\\ipykernel_launcher.py:10: UserWarning: Implicit dimension choice for softmax has been deprecated. Change the call to include dim=X as an argument.\n",
      "  # Remove the CWD from sys.path while we load stuff.\n"
     ]
    },
    {
     "name": "stdout",
     "output_type": "stream",
     "text": [
      "Epoch: [1/5], Step: [600/600], Loss: 1.7101\n",
      "Epoch: [2/5], Step: [600/600], Loss: 1.4993\n",
      "Epoch: [3/5], Step: [600/600], Loss: 1.2345\n",
      "Epoch: [4/5], Step: [600/600], Loss: 1.1452\n",
      "Epoch: [5/5], Step: [600/600], Loss: 0.9752\n"
     ]
    },
    {
     "data": {
      "text/plain": [
       "[<matplotlib.lines.Line2D at 0x1d0031cec88>]"
      ]
     },
     "execution_count": 17,
     "metadata": {},
     "output_type": "execute_result"
    },
    {
     "data": {
      "image/png": "[encoded data removed]",
      "text/plain": [
       "<Figure size 432x288 with 1 Axes>"
      ]
     },
     "metadata": {
      "needs_background": "light"
     },
     "output_type": "display_data"
    }
   ],
   "source": [
    "# Loss and Optimizer\n",
    "# Softmax is internally computed.\n",
    "# Set parameters to be updated.\n",
    "criterion = nn.NLLLoss()  #log probability. needs normal-n\n",
    "optimizer = torch.optim.SGD(model.parameters(), lr=learning_rate)  \n",
    "losses = []\n",
    "# Training the Model\n",
    "#computing all the batch\n",
    "for epoch in range(num_epochs):\n",
    "    loss_tot = 0\n",
    "    for i, (images, labels) in enumerate(train_loader):\n",
    "        images = images.view(-1, 28*28) ##it's changing the resctructure of data. -1 \"i want the last dim contain 784 and I let u comp the dim to do that\"\n",
    "        \n",
    "        # Forward + Backward + Optimize\n",
    "        optimizer.zero_grad()\n",
    "        outputs = model(images)\n",
    "        loss = criterion(outputs.log(), labels)\n",
    "        loss.backward()  # <=> x.grad += dloss/dx for all parameters x\n",
    "        loss_tot +=loss.detach().data\n",
    "        \n",
    "        optimizer.step()\n",
    "    losses.append(loss_tot/len(train_dataset))\n",
    "    print('Epoch: [%d/%d], Step: [%d/%d], Loss: %.4f' \n",
    "           % (epoch+1, num_epochs, i+1, len(train_dataset)//batch_size, loss))\n",
    "plt.plot(losses)"
   ]
  },
  {
   "cell_type": "code",
   "execution_count": 18,
   "metadata": {},
   "outputs": [],
   "source": [
    "torch.optim?"
   ]
  },
  {
   "cell_type": "code",
   "execution_count": 18,
   "metadata": {},
   "outputs": [
    {
     "data": {
      "text/plain": [
       "(<matplotlib.image.AxesImage at 0x1d00323b940>, tensor(0))"
      ]
     },
     "execution_count": 18,
     "metadata": {},
     "output_type": "execute_result"
    },
    {
     "data": {
      "image/png": "[encoded data removed]",
      "text/plain": [
       "<Figure size 432x288 with 1 Axes>"
      ]
     },
     "metadata": {
      "needs_background": "light"
     },
     "output_type": "display_data"
    }
   ],
   "source": [
    "plt.imshow(X[8, 0]), y[8]"
   ]
  },
  {
   "cell_type": "code",
   "execution_count": 19,
   "metadata": {},
   "outputs": [
    {
     "name": "stderr",
     "output_type": "stream",
     "text": [
      "C:\\ProgramData\\Anaconda3\\lib\\site-packages\\ipykernel_launcher.py:10: UserWarning: Implicit dimension choice for softmax has been deprecated. Change the call to include dim=X as an argument.\n",
      "  # Remove the CWD from sys.path while we load stuff.\n"
     ]
    },
    {
     "data": {
      "text/plain": [
       "tensor([[9.2682e-01, 8.1869e-04, 4.1962e-03, 1.1818e-02, 2.2008e-03, 2.7682e-02,\n",
       "         4.5051e-03, 1.1601e-02, 6.7530e-03, 3.6037e-03]],\n",
       "       grad_fn=<SoftmaxBackward>)"
      ]
     },
     "execution_count": 19,
     "metadata": {},
     "output_type": "execute_result"
    }
   ],
   "source": [
    "model(X[8].view(1, 784)) ###answer with probabilities"
   ]
  },
  {
   "cell_type": "markdown",
   "metadata": {},
   "source": [
    "<div class=\"alert alert-success\">\n",
    "<b>EXERCISE</b>:\n",
    "\n",
    "Update the code with the use of different optimizers and plot the resulting learning curves (check out matplotlib).\n",
    "What do you observe in terms of convergence time?\n",
    "\n",
    "</div>"
   ]
  },
  {
   "cell_type": "code",
   "execution_count": 26,
   "metadata": {},
   "outputs": [
    {
     "name": "stderr",
     "output_type": "stream",
     "text": [
      "C:\\ProgramData\\Anaconda3\\lib\\site-packages\\ipykernel_launcher.py:10: UserWarning: Implicit dimension choice for softmax has been deprecated. Change the call to include dim=X as an argument.\n",
      "  # Remove the CWD from sys.path while we load stuff.\n"
     ]
    },
    {
     "name": "stdout",
     "output_type": "stream",
     "text": [
      "Epoch: [1/5], Step: [1/1], Loss: 2.3401\n",
      "Epoch: [2/5], Step: [1/1], Loss: 2.2877\n",
      "Epoch: [3/5], Step: [1/1], Loss: 2.2519\n",
      "Epoch: [4/5], Step: [1/1], Loss: 2.2234\n",
      "Epoch: [5/5], Step: [1/1], Loss: 2.1990\n"
     ]
    },
    {
     "data": {
      "text/plain": [
       "[<matplotlib.lines.Line2D at 0x1d0042339e8>]"
      ]
     },
     "execution_count": 26,
     "metadata": {},
     "output_type": "execute_result"
    },
    {
     "data": {
      "image/png": "[encoded data removed]",
      "text/plain": [
       "<Figure size 432x288 with 1 Axes>"
      ]
     },
     "metadata": {
      "needs_background": "light"
     },
     "output_type": "display_data"
    }
   ],
   "source": [
    "# Your code\n",
    "model = LogisticRegression(input_size, num_classes)\n",
    "optimizer = torch.optim.Adagrad(model.parameters(), lr=learning_rate)\n",
    "criterion = nn.NLLLoss()  #log probability. needs normal-n\n",
    "losses = []\n",
    "# Training the Model\n",
    "#computing all the batch\n",
    "for epoch in range(num_epochs):\n",
    "    loss_tot = 0\n",
    "    for i, (images, labels) in enumerate(train_loader):\n",
    "        images = images.view(-1, 28*28) ##it's changing the resctructure of data. -1 \"i want the last dim contain 784 and I let u comp the dim to do that\"\n",
    "        \n",
    "        # Forward + Backward + Optimize\n",
    "        optimizer.zero_grad()\n",
    "        outputs = model(images)\n",
    "        loss = criterion(outputs.log(), labels)\n",
    "        loss.backward()  # <=> x.grad += dloss/dx for all parameters x\n",
    "        loss_tot+=loss.detach().data\n",
    "        optimizer.step()\n",
    "    losses.append(loss_tot/len(train_dataset))    \n",
    "    print('Epoch: [%d/%d], Step: [%d/%d], Loss: %.4f' \n",
    "           % (epoch+1, num_epochs, i+1, len(train_dataset)//batch_size, loss))\n",
    "plt.plot(losses)"
   ]
  },
  {
   "cell_type": "markdown",
   "metadata": {},
   "source": [
    "<div class=\"alert alert-success\">\n",
    "<b>EXERCISE</b>:\n",
    "\n",
    "Update the code above to implement gradient descent instead of stochastic gradient descent and plot the two corresponding training curves.\n",
    "\n",
    "</div>"
   ]
  },
  {
   "cell_type": "code",
   "execution_count": 33,
   "metadata": {},
   "outputs": [
    {
     "name": "stderr",
     "output_type": "stream",
     "text": [
      "C:\\ProgramData\\Anaconda3\\lib\\site-packages\\ipykernel_launcher.py:10: UserWarning: Implicit dimension choice for softmax has been deprecated. Change the call to include dim=X as an argument.\n",
      "  # Remove the CWD from sys.path while we load stuff.\n"
     ]
    },
    {
     "name": "stdout",
     "output_type": "stream",
     "text": [
      "Epoch: [1/5], Step: [600/600], Loss: 2.3390\n",
      "Epoch: [2/5], Step: [600/600], Loss: 2.3718\n",
      "Epoch: [3/5], Step: [600/600], Loss: 2.3253\n",
      "Epoch: [4/5], Step: [600/600], Loss: 2.3533\n",
      "Epoch: [5/5], Step: [600/600], Loss: 2.3559\n"
     ]
    },
    {
     "data": {
      "text/plain": [
       "[<matplotlib.lines.Line2D at 0x1d00bdfed68>]"
      ]
     },
     "execution_count": 33,
     "metadata": {},
     "output_type": "execute_result"
    },
    {
     "data": {
      "image/png": "[encoded data removed]",
      "text/plain": [
       "<Figure size 432x288 with 1 Axes>"
      ]
     },
     "metadata": {
      "needs_background": "light"
     },
     "output_type": "display_data"
    }
   ],
   "source": [
    "# Your code\n",
    "model = LogisticRegression(input_size, num_classes)\n",
    "criterion = nn.NLLLoss()  #log probability. needs normal-n\n",
    "optimizer = torch.optim.SGD(model.parameters(), lr=learning_rate)  \n",
    "losses = []\n",
    "# Training the Model\n",
    "#computing all the batch\n",
    "for epoch in range(num_epochs):\n",
    "    for i, (images, labels) in enumerate(train_loader):\n",
    "        images = images.view(-1, 28*28) ##it's changing the resctructure of data. -1 \"i want the last dim contain 784 and I let u comp the dim to do that\"\n",
    "        \n",
    "        # Forward + Backward + Optimize\n",
    "        optimizer.zero_grad()\n",
    "        outputs = model(images)\n",
    "        loss = criterion(outputs.log(), labels)\n",
    "        loss.backward()  # <=> x.grad += dloss/dx for all parameters x\n",
    "        losses.append(loss.detach().data)\n",
    "    optimizer.step()\n",
    "        \n",
    "    print('Epoch: [%d/%d], Step: [%d/%d], Loss: %.4f' \n",
    "           % (epoch+1, num_epochs, i+1, len(train_dataset)//batch_size, loss))\n",
    "plt.plot(losses)"
   ]
  },
  {
   "cell_type": "markdown",
   "metadata": {},
   "source": [
    "<div class=\"alert alert-success\">\n",
    "<b>EXERCISE</b>:\n",
    "\n",
    "Update the structure of the architecture and the training code so that it uses the torch.nn.CrossEntropyLoss()).\n",
    "\n",
    "</div>"
   ]
  },
  {
   "cell_type": "code",
   "execution_count": 36,
   "metadata": {},
   "outputs": [
    {
     "name": "stderr",
     "output_type": "stream",
     "text": [
      "C:\\ProgramData\\Anaconda3\\lib\\site-packages\\ipykernel_launcher.py:10: UserWarning: Implicit dimension choice for softmax has been deprecated. Change the call to include dim=X as an argument.\n",
      "  # Remove the CWD from sys.path while we load stuff.\n"
     ]
    },
    {
     "name": "stdout",
     "output_type": "stream",
     "text": [
      "Epoch: [1/5], Step: [600/600], Loss: 1.7574\n",
      "Epoch: [2/5], Step: [600/600], Loss: 1.4329\n",
      "Epoch: [3/5], Step: [600/600], Loss: 1.2885\n",
      "Epoch: [4/5], Step: [600/600], Loss: 1.1874\n",
      "Epoch: [5/5], Step: [600/600], Loss: 0.9590\n"
     ]
    },
    {
     "data": {
      "text/plain": [
       "[<matplotlib.lines.Line2D at 0x1d00335a2e8>]"
      ]
     },
     "execution_count": 36,
     "metadata": {},
     "output_type": "execute_result"
    },
    {
     "data": {
      "image/png": "[encoded data removed]",
      "text/plain": [
       "<Figure size 432x288 with 1 Axes>"
      ]
     },
     "metadata": {
      "needs_background": "light"
     },
     "output_type": "display_data"
    }
   ],
   "source": [
    "# Your code\n",
    "model = LogisticRegression(input_size, num_classes)\n",
    "criterion = nn.CrossEntropyLoss()  #log probability. needs normal-n\n",
    "optimizer = torch.optim.SGD(model.parameters(), lr=learning_rate)  \n",
    "losses = []\n",
    "# Training the Model\n",
    "#computing all the batch\n",
    "for epoch in range(num_epochs):\n",
    "    for i, (images, labels) in enumerate(train_loader):\n",
    "        images = images.view(-1, 28*28) ##it's changing the resctructure of data. -1 \"i want the last dim contain 784 and I let u comp the dim to do that\"\n",
    "        \n",
    "        # Forward + Backward + Optimize\n",
    "        optimizer.zero_grad()\n",
    "        outputs = model(images)\n",
    "        loss = criterion(outputs.log(), labels)\n",
    "        loss.backward()  # <=> x.grad += dloss/dx for all parameters x\n",
    "        losses.append(loss.detach().data)\n",
    "        optimizer.step()\n",
    "        \n",
    "    print('Epoch: [%d/%d], Step: [%d/%d], Loss: %.4f' \n",
    "           % (epoch+1, num_epochs, i+1, len(train_dataset)//batch_size, loss))\n",
    "plt.plot(losses)"
   ]
  },
  {
   "cell_type": "markdown",
   "metadata": {},
   "source": [
    "# Test the model"
   ]
  },
  {
   "cell_type": "markdown",
   "metadata": {},
   "source": [
    "<div class=\"alert alert-success\">\n",
    "<b>EXERCISE</b>:\n",
    "<ul>\n",
    "    <li> Explain what it means to enter in testing mode. </li>\n",
    "    <li> Why can't we directly optimize with respect to the maximum operator at training time, since this is the final objective we want to achieve. </li>\n",
    "</ul>\n",
    "</div>"
   ]
  },
  {
   "cell_type": "code",
   "execution_count": 37,
   "metadata": {},
   "outputs": [
    {
     "name": "stderr",
     "output_type": "stream",
     "text": [
      "C:\\ProgramData\\Anaconda3\\lib\\site-packages\\ipykernel_launcher.py:10: UserWarning: Implicit dimension choice for softmax has been deprecated. Change the call to include dim=X as an argument.\n",
      "  # Remove the CWD from sys.path while we load stuff.\n"
     ]
    },
    {
     "name": "stdout",
     "output_type": "stream",
     "text": [
      "Accuracy of the model on the 10000 test images: 82 %\n"
     ]
    }
   ],
   "source": [
    "# Test the Model\n",
    "correct = 0\n",
    "total = 0\n",
    "model.eval()\n",
    "\n",
    "for images, labels in test_loader:\n",
    "    images = images.view(-1, 28*28)\n",
    "    outputs = model(images)\n",
    "    _, predicted = torch.max(outputs.data, 1)\n",
    "    total += labels.size(0)\n",
    "    correct += (predicted == labels).sum()\n",
    "    \n",
    "print('Accuracy of the model on the 10000 test images: %d %%' % (100 * correct / total))"
   ]
  },
  {
   "cell_type": "markdown",
   "metadata": {},
   "source": [
    "<div class=\"alert alert-success\">\n",
    "<b>EXERCISE</b>:\n",
    "    \n",
    "Now monitor the behavior on both training and testing set at learning time.\n",
    "\n",
    "</div>"
   ]
  },
  {
   "cell_type": "code",
   "execution_count": null,
   "metadata": {},
   "outputs": [],
   "source": [
    "# Your code"
   ]
  }
 ],
 "metadata": {
  "hide_input": false,
  "kernelspec": {
   "display_name": "Python 3",
   "language": "python",
   "name": "python3"
  },
  "language_info": {
   "codemirror_mode": {
    "name": "ipython",
    "version": 3
   },
   "file_extension": ".py",
   "mimetype": "text/x-python",
   "name": "python",
   "nbconvert_exporter": "python",
   "pygments_lexer": "ipython3",
   "version": "3.7.3"
  }
 },
 "nbformat": 4,
 "nbformat_minor": 2
}
